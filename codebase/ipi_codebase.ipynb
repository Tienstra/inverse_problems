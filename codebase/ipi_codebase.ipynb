{
  "nbformat": 4,
  "nbformat_minor": 0,
  "metadata": {
    "colab": {
      "name": "ipi_codebase.ipynb",
      "provenance": [],
      "collapsed_sections": [],
      "toc_visible": true
    },
    "kernelspec": {
      "name": "python3",
      "display_name": "Python 3"
    }
  },
  "cells": [
    {
      "cell_type": "markdown",
      "metadata": {
        "id": "a21XEeLe7ZxI"
      },
      "source": [
        "## Intro"
      ]
    },
    {
      "cell_type": "code",
      "metadata": {
        "id": "Vr8KnLSWtk_a",
        "colab": {
          "base_uri": "https://localhost:8080/"
        },
        "outputId": "3e4c8561-df1a-46a9-c399-ae6679cd051b"
      },
      "source": [
        "from google.colab import drive \n",
        "drive.mount(\"/content/gdrive\")"
      ],
      "execution_count": null,
      "outputs": [
        {
          "output_type": "stream",
          "text": [
            "Drive already mounted at /content/gdrive; to attempt to forcibly remount, call drive.mount(\"/content/gdrive\", force_remount=True).\n"
          ],
          "name": "stdout"
        }
      ]
    },
    {
      "cell_type": "code",
      "metadata": {
        "id": "AG9Mnd5J_ay5",
        "colab": {
          "base_uri": "https://localhost:8080/"
        },
        "outputId": "118bcb3e-b369-4e59-8497-0ac3712b3b35"
      },
      "source": [
        "#clean memory\n",
        "import gc\n",
        "try:\n",
        "    del images\n",
        "except:\n",
        "    pass\n",
        "gc.collect(2)"
      ],
      "execution_count": null,
      "outputs": [
        {
          "output_type": "execute_result",
          "data": {
            "text/plain": [
              "976"
            ]
          },
          "metadata": {
            "tags": []
          },
          "execution_count": 16
        }
      ]
    },
    {
      "cell_type": "markdown",
      "metadata": {
        "id": "Y0SqbyCSRuzq"
      },
      "source": [
        "### File Paths"
      ]
    },
    {
      "cell_type": "code",
      "metadata": {
        "id": "-m5MUzMczvoh"
      },
      "source": [
        "image_path = \"/content/gdrive/My Drive/Inverse Problems/Images/\"\n",
        "model_path = \"/content/gdrive/My Drive/Inverse Problems/Models/\"\n",
        "history_path = \"/content/gdrive/My Drive/Inverse Problems/CSV/\"\n",
        "graph_path = \"/content/gdrive/My Drive/Inverse Problems/Graphs/\""
      ],
      "execution_count": null,
      "outputs": []
    },
    {
      "cell_type": "code",
      "metadata": {
        "id": "5slbk1pKucOl"
      },
      "source": [
        "from keras.layers import Input, Dense\n",
        "from keras.models import Model\n",
        "from keras import regularizers\n",
        "from keras.layers import Input, Dense, Conv2D, MaxPooling2D, UpSampling2D\n",
        "from keras.models import Model\n",
        "from keras import backend as K\n",
        "import matplotlib.pyplot as plt"
      ],
      "execution_count": null,
      "outputs": []
    },
    {
      "cell_type": "code",
      "metadata": {
        "id": "qIBWdZ-_wZRF"
      },
      "source": [
        "from skimage.metrics import peak_signal_noise_ratio\n",
        "from scipy.ndimage import gaussian_filter\n",
        "from numpy import savetxt\n",
        "from numpy import loadtxt\n",
        "import os \n",
        "import pandas as pd"
      ],
      "execution_count": null,
      "outputs": []
    },
    {
      "cell_type": "code",
      "metadata": {
        "id": "L0lSwXAvusmO"
      },
      "source": [
        "from keras.datasets import mnist, fashion_mnist\n",
        "import numpy as np\n",
        "data_dict = {\"mnist\": mnist.load_data(), \"fashion_mnist\": fashion_mnist.load_data()}"
      ],
      "execution_count": null,
      "outputs": []
    },
    {
      "cell_type": "markdown",
      "metadata": {
        "id": "cPtAPbHIDX9R"
      },
      "source": [
        "## Data Set "
      ]
    },
    {
      "cell_type": "code",
      "metadata": {
        "id": "H1yPaRqLt-0A"
      },
      "source": [
        "(x_train, _), (x_test, _) = mnist.load_data()\n",
        "\n",
        "x_train = x_train.astype('float32') / 255.\n",
        "x_test = x_test.astype('float32') / 255.\n",
        "x_train = np.reshape(x_train, (len(x_train), 28, 28, 1))  # adapt this if using `channels_first` image data format\n",
        "x_test = np.reshape(x_test, (len(x_test), 28, 28, 1))  # adapt this if using `channels_first` image data format"
      ],
      "execution_count": null,
      "outputs": []
    },
    {
      "cell_type": "markdown",
      "metadata": {
        "id": "yb161CnIPGlI"
      },
      "source": [
        "### Function to add noise/blur"
      ]
    },
    {
      "cell_type": "code",
      "metadata": {
        "id": "pGDonA4Y6rgz"
      },
      "source": [
        "#Make noisy images \n",
        "\n",
        "def add_noise(x,y,delta):\n",
        "    x = x + delta * np.random.normal(loc=0.0, scale=1.0, size=x_train.shape) \n",
        "    y = y + delta * np.random.normal(loc=0.0, scale=1.0, size=x_test.shape) \n",
        "\n",
        "    x = np.clip(x, 0., 1.)\n",
        "    y = np.clip(y, 0., 1.)\n",
        "\n",
        "    return x,y"
      ],
      "execution_count": null,
      "outputs": []
    },
    {
      "cell_type": "code",
      "metadata": {
        "id": "QuZyKmKl2NrZ"
      },
      "source": [
        "#Make blurry images  \n",
        "\n",
        "def add_blur_noise(x,y,delta):\n",
        "    x = gaussian_filter(x_train, sigma=0.5) + delta * np.random.normal(loc=0.0, scale=1.0, size=x_train.shape) \n",
        "    y = gaussian_filter(x_test, sigma=0.5)   + delta * np.random.normal(loc=0.0, scale=1.0, size=x_test.shape) \n",
        "    x = np.clip(x, 0., 1.)\n",
        "    y = np.clip(y, 0., 1.)\n",
        "\n",
        "    return x,y"
      ],
      "execution_count": null,
      "outputs": []
    },
    {
      "cell_type": "markdown",
      "metadata": {
        "id": "r9Go7SZp7TeS"
      },
      "source": [
        "### Function to calulate average PSNR"
      ]
    },
    {
      "cell_type": "code",
      "metadata": {
        "id": "2PgAxcFb4JLU"
      },
      "source": [
        "def calculate_psnr(u, u_rec, n):\n",
        "    psnr_vec = np.zeros(n)\n",
        "    for i in range(0,n): \n",
        "        psnr_vec[i] = peak_signal_noise_ratio(u[i].reshape(28,28), u_rec[i].reshape(28,28))\n",
        "    \n",
        "    mean = round(np.mean(psnr_vec),2)\n",
        "    return mean "
      ],
      "execution_count": null,
      "outputs": []
    },
    {
      "cell_type": "markdown",
      "metadata": {
        "id": "22ENPe7NUrKI"
      },
      "source": [
        "### Function to Plot Loss"
      ]
    },
    {
      "cell_type": "code",
      "metadata": {
        "id": "RehhHlzMQDNe"
      },
      "source": [
        "def plot_loss(history_dic):\n",
        "    iterations = list(range(1,len(history_dic['loss'])+1))\n",
        "    plt.plot(iterations,history_dic['loss'],label='training')\n",
        "    plt.plot(iterations,history_dic['val_loss'],label='validation')\n",
        "    plt.xlabel('Epochs')\n",
        "    plt.ylabel('Loss')\n",
        "    plt.legend()\n",
        "    plt.savefig(graph_path+'loss.png')\n",
        "    plt.show()"
      ],
      "execution_count": null,
      "outputs": []
    },
    {
      "cell_type": "markdown",
      "metadata": {
        "id": "WGvqksVhPLVU"
      },
      "source": [
        "### Plot"
      ]
    },
    {
      "cell_type": "code",
      "metadata": {
        "colab": {
          "base_uri": "https://localhost:8080/",
          "height": 129
        },
        "id": "7G5FZ6dxGbUZ",
        "outputId": "e4481097-04cf-4516-824a-318072e07c82"
      },
      "source": [
        "#show orginal images \n",
        "n = 10\n",
        "plt.figure(figsize=(20, 2))\n",
        "for i in range(1, n):\n",
        "    ax = plt.subplot(1, n, i)\n",
        "    plt.imshow(x_test[i].reshape(28, 28))\n",
        "    plt.gray()\n",
        "    ax.get_xaxis().set_visible(False)\n",
        "    ax.get_yaxis().set_visible(False)\n",
        "plt.show()"
      ],
      "execution_count": null,
      "outputs": [
        {
          "output_type": "display_data",
          "data": {
            "image/png": "[encoded data removed]",
            "text/plain": [
              "<Figure size 1440x144 with 9 Axes>"
            ]
          },
          "metadata": {
            "tags": [],
            "needs_background": "light"
          }
        }
      ]
    },
    {
      "cell_type": "code",
      "metadata": {
        "id": "W8qhGmFJ7Wlc",
        "colab": {
          "base_uri": "https://localhost:8080/",
          "height": 129
        },
        "outputId": "c215740f-ff00-4fe5-e337-4b214663f67c"
      },
      "source": [
        "#show noisy images\n",
        "x_train_noisy, x_test_noisy = add_noise(x_train,x_test,0.25)\n",
        "\n",
        "n = 10\n",
        "plt.figure(figsize=(20, 2))\n",
        "for i in range(1, n):\n",
        "    ax = plt.subplot(1, n, i)\n",
        "    plt.imshow(x_test_noisy[i].reshape(28, 28))\n",
        "    plt.gray()\n",
        "    ax.get_xaxis().set_visible(False)\n",
        "    ax.get_yaxis().set_visible(False)\n",
        "plt.show()"
      ],
      "execution_count": null,
      "outputs": [
        {
          "output_type": "display_data",
          "data": {
            "image/png": "[encoded data removed]",
            "text/plain": [
              "<Figure size 1440x144 with 9 Axes>"
            ]
          },
          "metadata": {
            "tags": [],
            "needs_background": "light"
          }
        }
      ]
    },
    {
      "cell_type": "code",
      "metadata": {
        "colab": {
          "base_uri": "https://localhost:8080/",
          "height": 129
        },
        "id": "Vj2sJks2uO7r",
        "outputId": "72ffdd77-286b-4cbb-9cbb-bf2e96bf094f"
      },
      "source": [
        "#show blurry + noisy images\n",
        "x_train_blurry, x_test_blurry = add_blur_noise(x_train,x_test,0.25)\n",
        "\n",
        "n = 10\n",
        "plt.figure(figsize=(20, 2))\n",
        "for i in range(1, n):\n",
        "    ax = plt.subplot(1, n, i)\n",
        "    plt.imshow(x_test_blurry[i].reshape(28, 28))\n",
        "    plt.gray()\n",
        "    ax.get_xaxis().set_visible(False)\n",
        "    ax.get_yaxis().set_visible(False)\n",
        "plt.show()"
      ],
      "execution_count": null,
      "outputs": [
        {
          "output_type": "display_data",
          "data": {
            "image/png": "[encoded data removed]",
            "text/plain": [
              "<Figure size 1440x144 with 9 Axes>"
            ]
          },
          "metadata": {
            "tags": [],
            "needs_background": "light"
          }
        }
      ]
    },
    {
      "cell_type": "markdown",
      "metadata": {
        "id": "70QPSkGHYd0D"
      },
      "source": [
        "##Noise Levels"
      ]
    },
    {
      "cell_type": "code",
      "metadata": {
        "id": "pgEk4oHCHWTd"
      },
      "source": [
        "noise_levels_dic = {'0.1':0.10, '0.2':0.2, '0.3':0.30, '0.4':0.4, \n",
        "                    '0.5': 0.50, '0.6':0.60, '0.7':0.7,'0.8':0.8,\n",
        "                    '0.9':0.9, '1':1\n",
        "                    }\n",
        "epochs=1\n",
        "psnr_dic={} "
      ],
      "execution_count": null,
      "outputs": []
    },
    {
      "cell_type": "markdown",
      "metadata": {
        "id": "bfOGps3r6omi"
      },
      "source": [
        "## Autodenoising with CNN"
      ]
    },
    {
      "cell_type": "markdown",
      "metadata": {
        "id": "tFZsz4GDPYlm"
      },
      "source": [
        "### The Model"
      ]
    },
    {
      "cell_type": "code",
      "metadata": {
        "id": "aHUioxiQOUs9",
        "colab": {
          "base_uri": "https://localhost:8080/",
          "height": 244
        },
        "outputId": "cb4397d9-9501-49be-9afd-914ca5142d97"
      },
      "source": [
        "#The model\n",
        "input_img = Input(shape=(28, 28, 1))  # adapt this if using `channels_first` image data format\n",
        "\n",
        "x = Conv2D(32, (3, 3), activation='relu', padding='same')(input_img)\n",
        "x = MaxPooling2D((2, 2), padding='same')(x)\n",
        "x = Conv2D(32, (3, 3), activation='relu', padding='same')(x)\n",
        "encoded = MaxPooling2D((2, 2), padding='same')(x)\n",
        "\n",
        "# at this point the representation is (7, 7, 32)\n",
        "\n",
        "x = Conv2D(32, (3, 3), activation='relu', padding='same')(encoded)\n",
        "x = UpSampling2D((2, 2))(x)\n",
        "x = Conv2D(32, (3, 3), activation='relu', padding='same')(x)\n",
        "x = UpSampling2D((2, 2))(x)\n",
        "decoded = Conv2D(1, (3, 3), activation='sigmoid', padding='same')(x)\n",
        "\n",
        "autoencoder = Model(input_img, decoded)\n",
        "\n",
        "#compile model \n",
        "autoencoder.compile(optimizer='adadelta', loss='binary_crossentropy')"
      ],
      "execution_count": null,
      "outputs": [
        {
          "output_type": "error",
          "ename": "NameError",
          "evalue": "ignored",
          "traceback": [
            "\u001b[0;31m---------------------------------------------------------------------------\u001b[0m",
            "\u001b[0;31mNameError\u001b[0m                                 Traceback (most recent call last)",
            "\u001b[0;32m<ipython-input-3-03a190010945>\u001b[0m in \u001b[0;36m<module>\u001b[0;34m()\u001b[0m\n\u001b[1;32m      1\u001b[0m \u001b[0;31m#The model\u001b[0m\u001b[0;34m\u001b[0m\u001b[0;34m\u001b[0m\u001b[0;34m\u001b[0m\u001b[0m\n\u001b[0;32m----> 2\u001b[0;31m \u001b[0minput_img\u001b[0m \u001b[0;34m=\u001b[0m \u001b[0mInput\u001b[0m\u001b[0;34m(\u001b[0m\u001b[0mshape\u001b[0m\u001b[0;34m=\u001b[0m\u001b[0;34m(\u001b[0m\u001b[0;36m28\u001b[0m\u001b[0;34m,\u001b[0m \u001b[0;36m28\u001b[0m\u001b[0;34m,\u001b[0m \u001b[0;36m1\u001b[0m\u001b[0;34m)\u001b[0m\u001b[0;34m)\u001b[0m  \u001b[0;31m# adapt this if using `channels_first` image data format\u001b[0m\u001b[0;34m\u001b[0m\u001b[0;34m\u001b[0m\u001b[0m\n\u001b[0m\u001b[1;32m      3\u001b[0m \u001b[0;34m\u001b[0m\u001b[0m\n\u001b[1;32m      4\u001b[0m \u001b[0mx\u001b[0m \u001b[0;34m=\u001b[0m \u001b[0mConv2D\u001b[0m\u001b[0;34m(\u001b[0m\u001b[0;36m32\u001b[0m\u001b[0;34m,\u001b[0m \u001b[0;34m(\u001b[0m\u001b[0;36m3\u001b[0m\u001b[0;34m,\u001b[0m \u001b[0;36m3\u001b[0m\u001b[0;34m)\u001b[0m\u001b[0;34m,\u001b[0m \u001b[0mactivation\u001b[0m\u001b[0;34m=\u001b[0m\u001b[0;34m'relu'\u001b[0m\u001b[0;34m,\u001b[0m \u001b[0mpadding\u001b[0m\u001b[0;34m=\u001b[0m\u001b[0;34m'same'\u001b[0m\u001b[0;34m)\u001b[0m\u001b[0;34m(\u001b[0m\u001b[0minput_img\u001b[0m\u001b[0;34m)\u001b[0m\u001b[0;34m\u001b[0m\u001b[0;34m\u001b[0m\u001b[0m\n\u001b[1;32m      5\u001b[0m \u001b[0mx\u001b[0m \u001b[0;34m=\u001b[0m \u001b[0mMaxPooling2D\u001b[0m\u001b[0;34m(\u001b[0m\u001b[0;34m(\u001b[0m\u001b[0;36m2\u001b[0m\u001b[0;34m,\u001b[0m \u001b[0;36m2\u001b[0m\u001b[0;34m)\u001b[0m\u001b[0;34m,\u001b[0m \u001b[0mpadding\u001b[0m\u001b[0;34m=\u001b[0m\u001b[0;34m'same'\u001b[0m\u001b[0;34m)\u001b[0m\u001b[0;34m(\u001b[0m\u001b[0mx\u001b[0m\u001b[0;34m)\u001b[0m\u001b[0;34m\u001b[0m\u001b[0;34m\u001b[0m\u001b[0m\n",
            "\u001b[0;31mNameError\u001b[0m: name 'Input' is not defined"
          ]
        }
      ]
    },
    {
      "cell_type": "markdown",
      "metadata": {
        "id": "xmus4sU8vGKU"
      },
      "source": [
        "### Training for Noisy data"
      ]
    },
    {
      "cell_type": "code",
      "metadata": {
        "id": "a2IVO-92GJ2p",
        "colab": {
          "base_uri": "https://localhost:8080/",
          "height": 599
        },
        "outputId": "206feda2-bccc-4ab1-83b1-8a1f861a43b5"
      },
      "source": [
        "for noise_level, delta in noise_levels_dic.items():\n",
        "    #make data \n",
        "    x_train_noisy, x_test_noisy = add_noise(x_train,x_test,delta)\n",
        "    save_name = \"_\".join(('noise_level ',noise_level))\n",
        "    #fit the model\n",
        "    print('\\n')\n",
        "    print('\\n')\n",
        "    print('Fitting model on data with noise level '+noise_level)\n",
        "    print('\\n')\n",
        "    history = autoencoder.fit(x_train_noisy, x_train,\n",
        "                    epochs=epochs,\n",
        "                    batch_size=128,\n",
        "                    shuffle=True,\n",
        "                    validation_data=(x_test_noisy, x_test))\n",
        "    \n",
        "    #Saves in a record of the training and validation loss\n",
        "    pd.DataFrame(history.history).to_csv(history_path+save_name+\".csv\")\n",
        "\n",
        "    autoencoder.save(model_path+save_name+\".h5\")\n",
        "\n",
        "    #evalute the model \n",
        "    print('\\n')\n",
        "    print('Evaluating Model')\n",
        "    print('\\n')\n",
        "    accuracy_train = history.model.evaluate(x_train_noisy,x_train,verbose=0)\n",
        "    accuracy_test = history.model.evaluate(x_test_noisy,x_test, verbose=0)\n",
        "\n",
        "    \n",
        "    plot_loss(history.history)\n",
        "\n",
        "    #plot\n",
        "    # encode and decode some digits\n",
        "    # note that we take them from the *test* set\n",
        "    print('Plotting')\n",
        "    print('\\n')\n",
        "    encoded_imgs = autoencoder.predict(x_test_noisy[:100])\n",
        "    decoded_imgs = autoencoder.predict(encoded_imgs)\n",
        "\n",
        "    n = 10  # how many digits we will display\n",
        "    plt.figure(figsize=(20, 4))\n",
        "    for i in range(1, n):\n",
        "        # display original noisy\n",
        "        ax = plt.subplot(2, n, i+1)\n",
        "        plt.imshow(x_test_noisy[i].reshape(28, 28))\n",
        "        plt.gray()\n",
        "        ax.get_xaxis().set_visible(False)\n",
        "        ax.get_yaxis().set_visible(False)\n",
        "        \n",
        "\n",
        "        # display reconstruction\n",
        "        ax = plt.subplot(2, n, i + 1 + n)\n",
        "        plt.imshow(decoded_imgs[i].reshape(28, 28))\n",
        "        plt.gray()\n",
        "        ax.get_xaxis().set_visible(False)\n",
        "        ax.get_yaxis().set_visible(False)\n",
        "\n",
        "    plt.savefig(image_path+\n",
        "                save_name+'.png', bbox_inches='tight')\n",
        "    plt.show()\n",
        "\n",
        "    #calculate PSNR based on 5000 samples and saves in dictionary\n",
        "    psnr_dic[noise_level]=calculate_psnr(x_test,x_test_noisy,5000)\n",
        "\n",
        "\n",
        "# saves to csv file\n",
        "pd.DataFrame(psnr_dic,index=psnr_dic.keys()).to_csv(history_path+\"psnr_noise.csv\")"
      ],
      "execution_count": null,
      "outputs": [
        {
          "output_type": "stream",
          "text": [
            "\n",
            "\n",
            "\n",
            "\n",
            "Fitting model on data with noise level 0.1\n",
            "\n",
            "\n",
            "Epoch 1/2\n",
            "469/469 [==============================] - 131s 278ms/step - loss: 0.7078 - val_loss: 0.6969\n",
            "Epoch 2/2\n",
            "292/469 [=================>............] - ETA: 47s - loss: 0.6944"
          ],
          "name": "stdout"
        },
        {
          "output_type": "error",
          "ename": "KeyboardInterrupt",
          "evalue": "ignored",
          "traceback": [
            "\u001b[0;31m---------------------------------------------------------------------------\u001b[0m",
            "\u001b[0;31mKeyboardInterrupt\u001b[0m                         Traceback (most recent call last)",
            "\u001b[0;32m<ipython-input-18-a426c8dec2cf>\u001b[0m in \u001b[0;36m<module>\u001b[0;34m()\u001b[0m\n\u001b[1;32m     12\u001b[0m                     \u001b[0mbatch_size\u001b[0m\u001b[0;34m=\u001b[0m\u001b[0;36m128\u001b[0m\u001b[0;34m,\u001b[0m\u001b[0;34m\u001b[0m\u001b[0;34m\u001b[0m\u001b[0m\n\u001b[1;32m     13\u001b[0m                     \u001b[0mshuffle\u001b[0m\u001b[0;34m=\u001b[0m\u001b[0;32mTrue\u001b[0m\u001b[0;34m,\u001b[0m\u001b[0;34m\u001b[0m\u001b[0;34m\u001b[0m\u001b[0m\n\u001b[0;32m---> 14\u001b[0;31m                     validation_data=(x_test_noisy, x_test))\n\u001b[0m\u001b[1;32m     15\u001b[0m \u001b[0;34m\u001b[0m\u001b[0m\n\u001b[1;32m     16\u001b[0m     \u001b[0;31m#Saves in a record of the training and validation loss\u001b[0m\u001b[0;34m\u001b[0m\u001b[0;34m\u001b[0m\u001b[0;34m\u001b[0m\u001b[0m\n",
            "\u001b[0;32m/usr/local/lib/python3.7/dist-packages/tensorflow/python/keras/engine/training.py\u001b[0m in \u001b[0;36mfit\u001b[0;34m(self, x, y, batch_size, epochs, verbose, callbacks, validation_split, validation_data, shuffle, class_weight, sample_weight, initial_epoch, steps_per_epoch, validation_steps, validation_batch_size, validation_freq, max_queue_size, workers, use_multiprocessing)\u001b[0m\n\u001b[1;32m   1098\u001b[0m                 _r=1):\n\u001b[1;32m   1099\u001b[0m               \u001b[0mcallbacks\u001b[0m\u001b[0;34m.\u001b[0m\u001b[0mon_train_batch_begin\u001b[0m\u001b[0;34m(\u001b[0m\u001b[0mstep\u001b[0m\u001b[0;34m)\u001b[0m\u001b[0;34m\u001b[0m\u001b[0;34m\u001b[0m\u001b[0m\n\u001b[0;32m-> 1100\u001b[0;31m               \u001b[0mtmp_logs\u001b[0m \u001b[0;34m=\u001b[0m \u001b[0mself\u001b[0m\u001b[0;34m.\u001b[0m\u001b[0mtrain_function\u001b[0m\u001b[0;34m(\u001b[0m\u001b[0miterator\u001b[0m\u001b[0;34m)\u001b[0m\u001b[0;34m\u001b[0m\u001b[0;34m\u001b[0m\u001b[0m\n\u001b[0m\u001b[1;32m   1101\u001b[0m               \u001b[0;32mif\u001b[0m \u001b[0mdata_handler\u001b[0m\u001b[0;34m.\u001b[0m\u001b[0mshould_sync\u001b[0m\u001b[0;34m:\u001b[0m\u001b[0;34m\u001b[0m\u001b[0;34m\u001b[0m\u001b[0m\n\u001b[1;32m   1102\u001b[0m                 \u001b[0mcontext\u001b[0m\u001b[0;34m.\u001b[0m\u001b[0masync_wait\u001b[0m\u001b[0;34m(\u001b[0m\u001b[0;34m)\u001b[0m\u001b[0;34m\u001b[0m\u001b[0;34m\u001b[0m\u001b[0m\n",
            "\u001b[0;32m/usr/local/lib/python3.7/dist-packages/tensorflow/python/eager/def_function.py\u001b[0m in \u001b[0;36m__call__\u001b[0;34m(self, *args, **kwds)\u001b[0m\n\u001b[1;32m    826\u001b[0m     \u001b[0mtracing_count\u001b[0m \u001b[0;34m=\u001b[0m \u001b[0mself\u001b[0m\u001b[0;34m.\u001b[0m\u001b[0mexperimental_get_tracing_count\u001b[0m\u001b[0;34m(\u001b[0m\u001b[0;34m)\u001b[0m\u001b[0;34m\u001b[0m\u001b[0;34m\u001b[0m\u001b[0m\n\u001b[1;32m    827\u001b[0m     \u001b[0;32mwith\u001b[0m \u001b[0mtrace\u001b[0m\u001b[0;34m.\u001b[0m\u001b[0mTrace\u001b[0m\u001b[0;34m(\u001b[0m\u001b[0mself\u001b[0m\u001b[0;34m.\u001b[0m\u001b[0m_name\u001b[0m\u001b[0;34m)\u001b[0m \u001b[0;32mas\u001b[0m \u001b[0mtm\u001b[0m\u001b[0;34m:\u001b[0m\u001b[0;34m\u001b[0m\u001b[0;34m\u001b[0m\u001b[0m\n\u001b[0;32m--> 828\u001b[0;31m       \u001b[0mresult\u001b[0m \u001b[0;34m=\u001b[0m \u001b[0mself\u001b[0m\u001b[0;34m.\u001b[0m\u001b[0m_call\u001b[0m\u001b[0;34m(\u001b[0m\u001b[0;34m*\u001b[0m\u001b[0margs\u001b[0m\u001b[0;34m,\u001b[0m \u001b[0;34m**\u001b[0m\u001b[0mkwds\u001b[0m\u001b[0;34m)\u001b[0m\u001b[0;34m\u001b[0m\u001b[0;34m\u001b[0m\u001b[0m\n\u001b[0m\u001b[1;32m    829\u001b[0m       \u001b[0mcompiler\u001b[0m \u001b[0;34m=\u001b[0m \u001b[0;34m\"xla\"\u001b[0m \u001b[0;32mif\u001b[0m \u001b[0mself\u001b[0m\u001b[0;34m.\u001b[0m\u001b[0m_experimental_compile\u001b[0m \u001b[0;32melse\u001b[0m \u001b[0;34m\"nonXla\"\u001b[0m\u001b[0;34m\u001b[0m\u001b[0;34m\u001b[0m\u001b[0m\n\u001b[1;32m    830\u001b[0m       \u001b[0mnew_tracing_count\u001b[0m \u001b[0;34m=\u001b[0m \u001b[0mself\u001b[0m\u001b[0;34m.\u001b[0m\u001b[0mexperimental_get_tracing_count\u001b[0m\u001b[0;34m(\u001b[0m\u001b[0;34m)\u001b[0m\u001b[0;34m\u001b[0m\u001b[0;34m\u001b[0m\u001b[0m\n",
            "\u001b[0;32m/usr/local/lib/python3.7/dist-packages/tensorflow/python/eager/def_function.py\u001b[0m in \u001b[0;36m_call\u001b[0;34m(self, *args, **kwds)\u001b[0m\n\u001b[1;32m    853\u001b[0m       \u001b[0;31m# In this case we have created variables on the first call, so we run the\u001b[0m\u001b[0;34m\u001b[0m\u001b[0;34m\u001b[0m\u001b[0;34m\u001b[0m\u001b[0m\n\u001b[1;32m    854\u001b[0m       \u001b[0;31m# defunned version which is guaranteed to never create variables.\u001b[0m\u001b[0;34m\u001b[0m\u001b[0;34m\u001b[0m\u001b[0;34m\u001b[0m\u001b[0m\n\u001b[0;32m--> 855\u001b[0;31m       \u001b[0;32mreturn\u001b[0m \u001b[0mself\u001b[0m\u001b[0;34m.\u001b[0m\u001b[0m_stateless_fn\u001b[0m\u001b[0;34m(\u001b[0m\u001b[0;34m*\u001b[0m\u001b[0margs\u001b[0m\u001b[0;34m,\u001b[0m \u001b[0;34m**\u001b[0m\u001b[0mkwds\u001b[0m\u001b[0;34m)\u001b[0m  \u001b[0;31m# pylint: disable=not-callable\u001b[0m\u001b[0;34m\u001b[0m\u001b[0;34m\u001b[0m\u001b[0m\n\u001b[0m\u001b[1;32m    856\u001b[0m     \u001b[0;32melif\u001b[0m \u001b[0mself\u001b[0m\u001b[0;34m.\u001b[0m\u001b[0m_stateful_fn\u001b[0m \u001b[0;32mis\u001b[0m \u001b[0;32mnot\u001b[0m \u001b[0;32mNone\u001b[0m\u001b[0;34m:\u001b[0m\u001b[0;34m\u001b[0m\u001b[0;34m\u001b[0m\u001b[0m\n\u001b[1;32m    857\u001b[0m       \u001b[0;31m# Release the lock early so that multiple threads can perform the call\u001b[0m\u001b[0;34m\u001b[0m\u001b[0;34m\u001b[0m\u001b[0;34m\u001b[0m\u001b[0m\n",
            "\u001b[0;32m/usr/local/lib/python3.7/dist-packages/tensorflow/python/eager/function.py\u001b[0m in \u001b[0;36m__call__\u001b[0;34m(self, *args, **kwargs)\u001b[0m\n\u001b[1;32m   2941\u001b[0m        filtered_flat_args) = self._maybe_define_function(args, kwargs)\n\u001b[1;32m   2942\u001b[0m     return graph_function._call_flat(\n\u001b[0;32m-> 2943\u001b[0;31m         filtered_flat_args, captured_inputs=graph_function.captured_inputs)  # pylint: disable=protected-access\n\u001b[0m\u001b[1;32m   2944\u001b[0m \u001b[0;34m\u001b[0m\u001b[0m\n\u001b[1;32m   2945\u001b[0m   \u001b[0;34m@\u001b[0m\u001b[0mproperty\u001b[0m\u001b[0;34m\u001b[0m\u001b[0;34m\u001b[0m\u001b[0m\n",
            "\u001b[0;32m/usr/local/lib/python3.7/dist-packages/tensorflow/python/eager/function.py\u001b[0m in \u001b[0;36m_call_flat\u001b[0;34m(self, args, captured_inputs, cancellation_manager)\u001b[0m\n\u001b[1;32m   1917\u001b[0m       \u001b[0;31m# No tape is watching; skip to running the function.\u001b[0m\u001b[0;34m\u001b[0m\u001b[0;34m\u001b[0m\u001b[0;34m\u001b[0m\u001b[0m\n\u001b[1;32m   1918\u001b[0m       return self._build_call_outputs(self._inference_function.call(\n\u001b[0;32m-> 1919\u001b[0;31m           ctx, args, cancellation_manager=cancellation_manager))\n\u001b[0m\u001b[1;32m   1920\u001b[0m     forward_backward = self._select_forward_and_backward_functions(\n\u001b[1;32m   1921\u001b[0m         \u001b[0margs\u001b[0m\u001b[0;34m,\u001b[0m\u001b[0;34m\u001b[0m\u001b[0;34m\u001b[0m\u001b[0m\n",
            "\u001b[0;32m/usr/local/lib/python3.7/dist-packages/tensorflow/python/eager/function.py\u001b[0m in \u001b[0;36mcall\u001b[0;34m(self, ctx, args, cancellation_manager)\u001b[0m\n\u001b[1;32m    558\u001b[0m               \u001b[0minputs\u001b[0m\u001b[0;34m=\u001b[0m\u001b[0margs\u001b[0m\u001b[0;34m,\u001b[0m\u001b[0;34m\u001b[0m\u001b[0;34m\u001b[0m\u001b[0m\n\u001b[1;32m    559\u001b[0m               \u001b[0mattrs\u001b[0m\u001b[0;34m=\u001b[0m\u001b[0mattrs\u001b[0m\u001b[0;34m,\u001b[0m\u001b[0;34m\u001b[0m\u001b[0;34m\u001b[0m\u001b[0m\n\u001b[0;32m--> 560\u001b[0;31m               ctx=ctx)\n\u001b[0m\u001b[1;32m    561\u001b[0m         \u001b[0;32melse\u001b[0m\u001b[0;34m:\u001b[0m\u001b[0;34m\u001b[0m\u001b[0;34m\u001b[0m\u001b[0m\n\u001b[1;32m    562\u001b[0m           outputs = execute.execute_with_cancellation(\n",
            "\u001b[0;32m/usr/local/lib/python3.7/dist-packages/tensorflow/python/eager/execute.py\u001b[0m in \u001b[0;36mquick_execute\u001b[0;34m(op_name, num_outputs, inputs, attrs, ctx, name)\u001b[0m\n\u001b[1;32m     58\u001b[0m     \u001b[0mctx\u001b[0m\u001b[0;34m.\u001b[0m\u001b[0mensure_initialized\u001b[0m\u001b[0;34m(\u001b[0m\u001b[0;34m)\u001b[0m\u001b[0;34m\u001b[0m\u001b[0;34m\u001b[0m\u001b[0m\n\u001b[1;32m     59\u001b[0m     tensors = pywrap_tfe.TFE_Py_Execute(ctx._handle, device_name, op_name,\n\u001b[0;32m---> 60\u001b[0;31m                                         inputs, attrs, num_outputs)\n\u001b[0m\u001b[1;32m     61\u001b[0m   \u001b[0;32mexcept\u001b[0m \u001b[0mcore\u001b[0m\u001b[0;34m.\u001b[0m\u001b[0m_NotOkStatusException\u001b[0m \u001b[0;32mas\u001b[0m \u001b[0me\u001b[0m\u001b[0;34m:\u001b[0m\u001b[0;34m\u001b[0m\u001b[0;34m\u001b[0m\u001b[0m\n\u001b[1;32m     62\u001b[0m     \u001b[0;32mif\u001b[0m \u001b[0mname\u001b[0m \u001b[0;32mis\u001b[0m \u001b[0;32mnot\u001b[0m \u001b[0;32mNone\u001b[0m\u001b[0;34m:\u001b[0m\u001b[0;34m\u001b[0m\u001b[0;34m\u001b[0m\u001b[0m\n",
            "\u001b[0;31mKeyboardInterrupt\u001b[0m: "
          ]
        }
      ]
    },
    {
      "cell_type": "markdown",
      "metadata": {
        "id": "CWkogzqJvOg8"
      },
      "source": [
        "### Fit for blurry + noisy data"
      ]
    },
    {
      "cell_type": "code",
      "metadata": {
        "id": "EWi5bKDvXOis"
      },
      "source": [
        "for noise_level, delta in noise_levels_dic.items():\n",
        "    #make data \n",
        "    x_train_noisy, x_test_noisy = add_blur_noise(x_train,x_test,delta)\n",
        "    save_name = \"_\".join(('blur_level_0.5_with_noise_level ',noise_level))\n",
        "    #fit the model\n",
        "    print('\\n')\n",
        "    print('\\n')\n",
        "    print('Fitting model on data with noise level '+noise_level)\n",
        "    print('\\n')\n",
        "    history = autoencoder.fit(x_train_noisy, x_train,\n",
        "                    epochs=epochs,\n",
        "                    batch_size=128,\n",
        "                    shuffle=True,\n",
        "                    validation_data=(x_test_noisy, x_test))\n",
        "    \n",
        "    #Saves in a record of the training and validation loss\n",
        "    pd.DataFrame(history.history).to_csv(history_path+save_name+\".csv\")\n",
        "\n",
        "    autoencoder.save(model_path+save_name+\".h5\")\n",
        "\n",
        "    #evalute the model \n",
        "    print('\\n')\n",
        "    print('Evaluating Model')\n",
        "    print('\\n')\n",
        "    accuracy_train = history.model.evaluate(x_train_noisy,x_train,verbose=0)\n",
        "    accuracy_test = history.model.evaluate(x_test_noisy,x_test, verbose=0)\n",
        "\n",
        "    \n",
        "    plot_loss(history.history)\n",
        "\n",
        "    #plot\n",
        "    # encode and decode some digits\n",
        "    # note that we take them from the *test* set\n",
        "    print('Plotting')\n",
        "    print('\\n')\n",
        "    encoded_imgs = autoencoder.predict(x_test_noisy[:100])\n",
        "    decoded_imgs = autoencoder.predict(encoded_imgs)\n",
        "\n",
        "    n = 10  # how many digits we will display\n",
        "    plt.figure(figsize=(20, 4))\n",
        "    for i in range(1, n):\n",
        "        # display original noisy\n",
        "        ax = plt.subplot(2, n, i+1)\n",
        "        plt.imshow(x_test_noisy[i].reshape(28, 28))\n",
        "        plt.gray()\n",
        "        ax.get_xaxis().set_visible(False)\n",
        "        ax.get_yaxis().set_visible(False)\n",
        "        \n",
        "\n",
        "        # display reconstruction\n",
        "        ax = plt.subplot(2, n, i + 1 + n)\n",
        "        plt.imshow(decoded_imgs[i].reshape(28, 28))\n",
        "        plt.gray()\n",
        "        ax.get_xaxis().set_visible(False)\n",
        "        ax.get_yaxis().set_visible(False)\n",
        "\n",
        "    plt.savefig(image_path+\n",
        "                save_name+'.png', bbox_inches='tight')\n",
        "    plt.show()\n",
        "\n",
        "    #calculate PSNR based on 5000 samples and saves in dictionary\n",
        "    psnr_dic[noise_level]=calculate_psnr(x_test,x_test_noisy,5000)\n",
        "\n",
        "\n",
        "# saves to csv file\n",
        "pd.DataFrame(psnr_dic,index=psnr_dic.keys()).to_csv(history_path+\"psnr_blur.csv\")"
      ],
      "execution_count": null,
      "outputs": []
    },
    {
      "cell_type": "markdown",
      "metadata": {
        "id": "rObQbfyEvtlf"
      },
      "source": [
        "## Comparison for noisy data"
      ]
    },
    {
      "cell_type": "code",
      "metadata": {
        "id": "c8DtVb76z8z4"
      },
      "source": [
        "# diffusion operator\n",
        "def L(u,coeff = lambda s : 1):\n",
        "    ue = np.pad(u,1,mode='edge') # padd edges to get array of size n+2 x n+2\n",
        "\n",
        "    # diffusion coefficient (central differences)\n",
        "    grad_norm = ((ue[2:,1:-1] - ue[:-2,1:-1])/(2/n))**2 + ((ue[1:-1,2:] - ue[1:-1,:-2])/(2/n))**2\n",
        "    c = np.pad(coeff(grad_norm),1,mode='edge')\n",
        "\n",
        "    # diffusion term (combination of forward and backward differences)\n",
        "    uxx = ((c[1:-1,1:-1] + c[2:,1:-1])*(ue[2:,1:-1]-ue[1:-1,1:-1]) - (c[:-2,1:-1]+c[1:-1,1:-1])*(ue[1:-1,1:-1]-ue[:-2,1:-1]))/(2/n**2)\n",
        "    uyy = ((c[1:-1,1:-1] + c[1:-1,2:])*(ue[1:-1,2:]-ue[1:-1,1:-1]) - (c[1:-1,:-2]+c[1:-1,1:-1])*(ue[1:-1,1:-1]-ue[1:-1,:-2,]))/(2/n**2)\n",
        "\n",
        "    return uxx + uyy"
      ],
      "execution_count": null,
      "outputs": []
    },
    {
      "cell_type": "code",
      "metadata": {
        "id": "8GcuChmYTZdZ"
      },
      "source": [
        "noise_levels_dic = {'0.1':0.10, '0.2':0.20, '0.3':0.30, \n",
        "                    '0.4':0.40, '0.5':0.50, '0.6':0.60, \n",
        "                    '0.7':0.70, '0.8':0.80, '0.9':0.90, '1':1}"
      ],
      "execution_count": null,
      "outputs": []
    },
    {
      "cell_type": "markdown",
      "metadata": {
        "id": "o04YfQuFdpwf"
      },
      "source": [
        "### Perona-Malik and ROF TV regularisation "
      ]
    },
    {
      "cell_type": "code",
      "metadata": {
        "id": "YXG6eGtayDdT"
      },
      "source": [
        "# parameters\n",
        "alpha = 10\n",
        "dt = 1e-6\n",
        "niter = 1001\n",
        "n = 28\n",
        "# coeff = lambda s : 1/(1+1e6*s)\n",
        "\n",
        "# #coeff for tv\n",
        "# coeff = lambda s : 1/((5)+np.sqrt(s))"
      ],
      "execution_count": null,
      "outputs": []
    },
    {
      "cell_type": "code",
      "metadata": {
        "id": "yluBKDVx0cA5"
      },
      "source": [
        "heat_method_dic={'Perona_Malik':lambda s : 1/(1+1e6*s), \n",
        "                  'ROF_TV': lambda s : 1/((5)+np.sqrt(s))}\n",
        "\n",
        "psnr_per_method_dic={}"
      ],
      "execution_count": null,
      "outputs": []
    },
    {
      "cell_type": "code",
      "metadata": {
        "id": "4BCuKAh5pjXZ"
      },
      "source": [
        "def plot_reconstruction(data, n):\n",
        "\n",
        "    fig = plt.figure(figsize=(20, 4), dpi=300)\n",
        "    fig.tight_layout()\n",
        "    \n",
        "    for i in range(n):\n",
        "        item = data[i]\n",
        "        \n",
        "        # display original noisy\n",
        "        ax = plt.subplot(2, n, i+1)\n",
        "        plt.imshow(item[0, :, :])\n",
        "        plt.gray()\n",
        "        ax.get_xaxis().set_visible(False)\n",
        "        ax.get_yaxis().set_visible(False)\n",
        "\n",
        "\n",
        "        # display reconstruction\n",
        "        ax = plt.subplot(2, n, i + 1 + n)\n",
        "        plt.imshow(item[1, :, :])\n",
        "        plt.gray()\n",
        "        ax.get_xaxis().set_visible(False)\n",
        "        ax.get_yaxis().set_visible(False)\n",
        "        \n",
        "    plt.show()"
      ],
      "execution_count": null,
      "outputs": []
    },
    {
      "cell_type": "code",
      "metadata": {
        "id": "f73F-tEasDU_"
      },
      "source": [
        "from skimage.metrics import structural_similarity as ssim\n",
        "from skimage import img_as_float\n",
        "from skimage.restoration import denoise_tv_chambolle\n",
        "\n",
        "#sample size\n",
        "sample_size = 2\n",
        "psnr_vec = np.zeros(sample_size)\n",
        "mean_psnr_dic = {}\n",
        "mean_psnr_per_method_dic = {}\n",
        "psnr_dic = {}\n",
        "psnr_per_method_dic = {}\n",
        "\n",
        "ssim_vec = {}\n",
        "ssim_dic = {}\n",
        "ssim_per_method_dic = {}\n",
        "\n",
        "# for noise_level, delta in noise_levels_dic.items():\n",
        "#     print('Noise level : ', noise_level)\n",
        "for method, coeff in heat_method_dic.items():\n",
        "    print('Method : ', method)\n",
        "    datas = np.zeros((sample_size, 2, 28, 28))\n",
        "    psnr_vec = np.zeros(sample_size)\n",
        "\n",
        "    for noise_level, delta in noise_levels_dic.items():\n",
        "        print('Noise level : ', noise_level)\n",
        "    \n",
        "        \n",
        "        for i in range(0, sample_size):\n",
        "            f = img_as_float(x_train[i].reshape(28,28))\n",
        "            f_delta = f + np.random.normal(loc=0.0, scale=delta, size=f.shape)\n",
        "            f_delta = np.clip(f_delta, 0, 1)\n",
        "            # solve evolution equation\n",
        "            u = np.zeros((n,n))\n",
        "\n",
        "            # (image, weight=0.1, eps=0.0002, n_iter_max=200, multichannel=False, *, channel_axis=None)\n",
        "            #for ROF couldn't find one where Perona-Malik worked\n",
        "            u = denoise_tv_chambolle(f_delta, weight=alpha, eps=0.0002, n_iter_max=niter-1)\n",
        "            # for k in range(niter-1):\n",
        "            #     u = u - dt*(u - alpha*L(u,coeff)) + dt*f_delta\n",
        " \n",
        "            # u = img_as_float(u)\n",
        "            psnr_vec[i] = peak_signal_noise_ratio(x_train[i].reshape(28,28),u)\n",
        "            ssim_vec[i] = ssim(f, u, data_range=1)\n",
        "\n",
        "            # Samples to display\n",
        "            if i < 10:\n",
        "                datas[i][0] = f_delta\n",
        "                datas[i][1] = u\n",
        "        \n",
        "        psnr_dic[noise_level] = psnr_vec.copy()\n",
        "        psnr_per_method_dic[method] = psnr_dic.copy()\n",
        "        \n",
        "        ssim_dic[noise_level] = ssim_vec.copy()\n",
        "        ssim_per_method_dic[method] = ssim_dic.copy()\n",
        "        \n",
        "        mean_psnr_dic[noise_level] = round(np.mean(psnr_vec), 2)\n",
        "        mean_psnr_per_method_dic[method] = mean_psnr_dic.copy()\n",
        "\n",
        "        # plot_reconstruction(datas, 10)"
      ],
      "execution_count": null,
      "outputs": []
    },
    {
      "cell_type": "code",
      "metadata": {
        "id": "YQWn6zAkyqfN"
      },
      "source": [
        " psnr_per_method_dic"
      ],
      "execution_count": null,
      "outputs": []
    },
    {
      "cell_type": "code",
      "metadata": {
        "id": "jMelwD45UAU-"
      },
      "source": [
        "def box_plot_psnr(data, title, labels):\n",
        "    fig, ax = plt.subplots(dpi=300)\n",
        "    ax.set_title(title)\n",
        "    ax.set_xlabel(r'Noise $\\sigma$')\n",
        "    ax.set_ylabel('PSNR')\n",
        "    ax.boxplot(data, labels=labels)\n",
        "    plt.show()\n",
        "    \n",
        "box_plot_psnr(psnr_per_method_dic['Perona_Malik'].values(), 'Perona-Malik', noise_levels_dic.keys())\n",
        "box_plot_psnr(psnr_per_method_dic['ROF_TV'].values(), 'Total Variation', noise_levels_dic.keys())"
      ],
      "execution_count": null,
      "outputs": []
    },
    {
      "cell_type": "markdown",
      "metadata": {
        "id": "AbpTA4xHp2da"
      },
      "source": [
        "###Some thing wrong with the PSNR"
      ]
    },
    {
      "cell_type": "code",
      "metadata": {
        "id": "5KueQcWY0rcT"
      },
      "source": [
        "# import numpy as np\n",
        "# import matplotlib.pyplot as plt\n",
        "\n",
        "# from skimage import data\n",
        "# from skimage.util import random_noise\n",
        "# from skimage.transform import resize\n",
        "\n",
        "# # parameters\n",
        "# sigma = 0.1\n",
        "# alpha = 1\n",
        "# dt = 1e-6\n",
        "# niter = 1001\n",
        "# n = 28\n",
        "# coeff = lambda s : 1/(1+1e6*s)\n",
        "\n",
        "# # diffusion operator\n",
        "# def L(u,coeff = lambda s : 1):\n",
        "#     ue = np.pad(u,1,mode='edge') # padd edges to get array of size n+2 x n+2\n",
        "\n",
        "#     # diffusion coefficient (central differences)\n",
        "#     grad_norm = ((ue[2:,1:-1] - ue[:-2,1:-1])/(2/n))**2 + ((ue[1:-1,2:] - ue[1:-1,:-2])/(2/n))**2\n",
        "#     c = np.pad(coeff(grad_norm),1,mode='edge')\n",
        "\n",
        "#     # diffusion term (combination of forward and backward differences)\n",
        "#     uxx = ((c[1:-1,1:-1] + c[2:,1:-1])*(ue[2:,1:-1]-ue[1:-1,1:-1]) - (c[:-2,1:-1]+c[1:-1,1:-1])*(ue[1:-1,1:-1]-ue[:-2,1:-1]))/(2/n**2)\n",
        "#     uyy = ((c[1:-1,1:-1] + c[1:-1,2:])*(ue[1:-1,2:]-ue[1:-1,1:-1]) - (c[1:-1,:-2]+c[1:-1,1:-1])*(ue[1:-1,1:-1]-ue[1:-1,:-2,]))/(2/n**2)\n",
        "\n",
        "#     return uxx + uyy\n",
        "\n",
        "# # noisy image\n",
        "# idx = np.random.randint(0,x_train.shape[0],2)\n",
        "\n",
        "# sigma=[0.1,0.5,1]\n",
        "# for s in sigma:\n",
        "#     print(s)\n",
        "#     for i in idx: \n",
        "#         f = img_as_float(x_train[i].reshape(28,28))\n",
        "#         f_delta = f + np.random.normal(loc=0.0, scale=s, size=f.shape)\n",
        "#         f_delta = np.clip(f_delta, 0, 1)\n",
        "\n",
        "#         # solve evolution equation\n",
        "#         # u = np.zeros((n,n))\n",
        "\n",
        "#         for k in range(niter-1):\n",
        "#             u = u - dt*(u - alpha*L(u,coeff)) + dt*f_delta\n",
        "\n",
        "#         \n",
        "\n",
        "\n",
        "#         print(peak_signal_noise_ratio(f,u)) \n"
      ],
      "execution_count": null,
      "outputs": []
    },
    {
      "cell_type": "markdown",
      "metadata": {
        "id": "PJxu88702p7m"
      },
      "source": [
        "### Plot some samples "
      ]
    },
    {
      "cell_type": "code",
      "metadata": {
        "id": "fYx6ygype6Xe"
      },
      "source": [
        "# ax[0].imshow(f_delta)\n",
        "# ax[0].set_title('Noisy image')\n",
        "# ax[0].set_xticks([])\n",
        "# ax[0].set_yticks([])\n",
        "\n",
        "# ax[1].imshow(u_tv)\n",
        "# ax[1].set_title('Result NonLin TV')\n",
        "# ax[1].set_xticks([])\n",
        "# ax[1].set_yticks([])"
      ],
      "execution_count": null,
      "outputs": []
    },
    {
      "cell_type": "markdown",
      "metadata": {
        "id": "RPFUbkGkwFjw"
      },
      "source": [
        "## Comparison for blurry + noisy images"
      ]
    },
    {
      "cell_type": "code",
      "metadata": {
        "id": "JHZ0j1sKO9Yy"
      },
      "source": [
        "# # grid \\Omega = [0,1]\n",
        "# n = 784\n",
        "# h = 1/(n-1)\n",
        "# x = np.linspace(0,1,n)\n",
        "\n",
        "# # parameters\n",
        "# niter = 10000\n",
        "# lmbda = 1\n",
        "\n",
        "\n",
        "# #Compute the D\n",
        "# def compute_D(u):\n",
        "#     D_xy = np.gradient(u.reshape(28,28))\n",
        "#     D_x  = D_xy[0]\n",
        "#     D_y  = D_xy[1]\n",
        "#     D = np.sqrt(np.abs(D_x)**2+ np.abs(D_y)**2)\n",
        "#     D=D.flatten()\n",
        "#     D=np.diag(-D) + np.diag(D[:-1],1)\n",
        "\n",
        "#     return D"
      ],
      "execution_count": null,
      "outputs": []
    },
    {
      "cell_type": "markdown",
      "metadata": {
        "id": "C1PKnOhA_bw6"
      },
      "source": [
        "### Proximal Gradient Descent - Failed"
      ]
    },
    {
      "cell_type": "code",
      "metadata": {
        "id": "vECqlBJ5_QJY"
      },
      "source": [
        "# def prox_grad(f,lmbda,D,alpha,niter):\n",
        "#     nu = np.zeros(D.shape[0])\n",
        "#     hist = np.zeros((niter,2))\n",
        "\n",
        "#     P = lambda nu : np.piecewise(nu, [np.abs(nu) <= lmbda, np.abs(nu) > lmbda], \n",
        "#                                  [lambda x : x, lambda x : lmbda*np.sign(x)])\n",
        "\n",
        "#     for k in range(0,niter):\n",
        "#         nu = P(nu - alpha*D@(D.T@nu - f))\n",
        "#         u = f - D.T@nu\n",
        "#         # primal = 0.5*np.linalg.norm(u - f)**2 + lmbda*np.linalg.norm(D@u,ord=1)\n",
        "#         # dual = -0.5*np.linalg.norm(D.T@nu) + f.dot(D.T@nu)\n",
        "#         # hist[k] = primal, dual\n",
        "\n",
        "#     return u\n"
      ],
      "execution_count": null,
      "outputs": []
    },
    {
      "cell_type": "code",
      "metadata": {
        "id": "Iju3XY8f6sv0"
      },
      "source": [
        "# sample_size = 5\n",
        "# psnr_vec = np.zeros(sample_size)\n",
        "# mean_psnr_dic={}\n",
        "\n",
        "# for noise_level, delta in noise_levels_dic.items():\n",
        "#     save_name = \"_\".join(('blur_level_0.5_with_noise_level ',noise_level))\n",
        "#     for i in range(0,sample_size):\n",
        "#         f = x_train[i].reshape(28,28).flatten()\n",
        "#         f_delta = gaussian_filter(x_train[i], sigma=0.5) + delta * np.random.normal(loc=0.0, scale=1.0, size=x_train[i].shape)\n",
        "#         D = compute_D(f_delta)\n",
        "#         # proximal gradient on dual problem\n",
        "#         alpha = 1/np.linalg.norm(D)**2\n",
        "#         u_prox = prox_grad(f_delta.flatten(),lmbda,D,alpha,niter)\n",
        "#         psnr_vec[i]=peak_signal_noise_ratio(f,f_delta)\n",
        "#     mean_psnr_dic[noise_level]=np.mean(psnr_vec) "
      ],
      "execution_count": null,
      "outputs": []
    },
    {
      "cell_type": "markdown",
      "metadata": {
        "id": "xNcuo2pW5znI"
      },
      "source": [
        "### Plot some sample "
      ]
    },
    {
      "cell_type": "code",
      "metadata": {
        "id": "LpZeG7sInME9"
      },
      "source": [
        "# # plot\n",
        "# fig,ax = plt.subplots(1,2)\n",
        "\n",
        "# plt.gray()\n",
        "\n",
        "# ax[0].imshow(f_delta.reshape(28,28))\n",
        "# ax[0].set_title('Noisy image')\n",
        "# ax[0].set_xticks([])\n",
        "# ax[0].set_yticks([])\n",
        "\n",
        "# ax[1].imshow(u_prox.reshape(28,28))\n",
        "# ax[1].set_title('Result Prox')\n",
        "# ax[1].set_xticks([])\n",
        "# ax[1].set_yticks([])"
      ],
      "execution_count": null,
      "outputs": []
    },
    {
      "cell_type": "markdown",
      "metadata": {
        "id": "QHfVzSDmwRzy"
      },
      "source": [
        "### Admm - Failed"
      ]
    },
    {
      "cell_type": "code",
      "metadata": {
        "id": "q7DzxvNd_Rsj"
      },
      "source": [
        "# def admm(f,lmbda,D,rho,niter):\n",
        "#     m,n = D.shape\n",
        "#     nu = np.zeros(m)\n",
        "#     v = np.zeros(m)\n",
        "#     u = np.zeros(n)\n",
        "#     hist = np.zeros((niter,2))\n",
        "\n",
        "#     T = lambda v : np.piecewise(v, [v < -lmbda/rho, np.abs(v) <= lmbda/rho, v > lmbda/rho], \n",
        "#                                 [lambda x : x + lmbda/rho, lambda x : 0, lambda x : x - lmbda/rho])\n",
        "\n",
        "#     for k in range(0,niter):\n",
        "#         u = np.linalg.solve(np.eye(n) + rho*D.T@D, f + D.T@(rho*v - nu))\n",
        "#         v = T(D@u + nu/rho)\n",
        "#         nu = nu + rho*(D@u - v)\n",
        "\n",
        "#         # primal = 0.5*np.linalg.norm(u - f)**2 + lmbda*np.linalg.norm(D@u,ord=1)\n",
        "#         # dual = -0.5*np.linalg.norm(D.T@nu) + f.dot(D.T@nu)\n",
        "#         # hist[k] = primal, dual\n",
        "\n",
        "#     return u"
      ],
      "execution_count": null,
      "outputs": []
    },
    {
      "cell_type": "code",
      "metadata": {
        "id": "Np-abmSMlowe"
      },
      "source": [
        "# ADMM\n",
        "#generate some data\n",
        "# delta = 0\n",
        "# idx=5\n",
        "# f_delta = gaussian_filter(x_train[idx], sigma=0.5) + delta * np.random.normal(loc=0.0, scale=1.0, size=x_train[idx].shape)\n",
        "\n",
        "# D = compute_D(f_delta)\n",
        "\n",
        "# rho = 1\n",
        "# lmbda = 1\n",
        "# u_admm = admm(f_delta.flatten(),lmbda,D,rho,niter)"
      ],
      "execution_count": null,
      "outputs": []
    },
    {
      "cell_type": "code",
      "metadata": {
        "id": "fi9oCzS7GJN-"
      },
      "source": [
        "# # plot\n",
        "# fig,ax = plt.subplots(1,2)\n",
        "\n",
        "# plt.gray()\n",
        "\n",
        "# ax[0].imshow(f_delta.reshape(28,28))\n",
        "# ax[0].set_title('Blurred image')\n",
        "# ax[0].set_xticks([])\n",
        "# ax[0].set_yticks([])\n",
        "\n",
        "# ax[1].imshow(u_admm.reshape(28,28))\n",
        "# ax[1].set_title('Result ADMM')\n",
        "# ax[1].set_xticks([])\n",
        "# ax[1].set_yticks([])\n",
        "\n",
        "# peak_signal_noise_ratio(x_train[idx].reshape(28,28),u_admm.reshape(28,28))\n",
        "\n",
        "# #result 16"
      ],
      "execution_count": null,
      "outputs": []
    },
    {
      "cell_type": "markdown",
      "metadata": {
        "id": "0htFdkPxLYkA"
      },
      "source": [
        "## ProxImaL lib"
      ]
    },
    {
      "cell_type": "code",
      "metadata": {
        "id": "tV0RroYntDKe"
      },
      "source": [
        "pip install proximal"
      ],
      "execution_count": null,
      "outputs": []
    },
    {
      "cell_type": "code",
      "metadata": {
        "id": "nlxO7rZkLery"
      },
      "source": [
        "# from proximal import *\n",
        "# import numpy as np\n",
        "# import scipy.misc\n",
        "# import matplotlib.pyplot as plt\n",
        "\n",
        "# idx=5\n",
        "# delta=.7\n",
        "\n",
        "# # Generate data.\n",
        "# I = x_train[idx].reshape(28,28)\n",
        "# b = gaussian_filter(I, sigma=0.5) + delta * np.random.normal(loc=0.0, scale=1.0, size=I.shape) \n",
        "\n",
        "# # Construct and solve problem.\n",
        "# x = Variable( I.shape )\n",
        "# prob = Problem(sum_squares(x - b) + (delta**2)*norm1( grad(x) ) + nonneg(x))\n",
        "# prob.solve(solver='pc')\n",
        "\n",
        "# # Plot the original, noisy, and denoised images.\n",
        "# plt.figure(figsize=(10,10))\n",
        "# plt.subplot(131)\n",
        "# plt.gray()\n",
        "# plt.imshow(I)\n",
        "# plt.title('Original image')\n",
        "\n",
        "# plt.subplot(132)\n",
        "# plt.gray()\n",
        "# plt.imshow(b)\n",
        "# plt.title('Noisy image')\n",
        "\n",
        "# plt.subplot(133)\n",
        "# plt.gray()\n",
        "# plt.imshow(x.value) # x.value is the optimal value of x.\n",
        "# plt.title('Denoising results')\n",
        "# plt.show()\n",
        "\n",
        "# peak_signal_noise_ratio(I,x.value)\n"
      ],
      "execution_count": null,
      "outputs": []
    },
    {
      "cell_type": "code",
      "metadata": {
        "id": "k072fRcWqYbl"
      },
      "source": [
        "idx=0\n",
        "delta=0\n",
        "nb_samples = 100\n",
        "\n",
        "psnr_vec = np.zeros(nb_samples)\n",
        "psnr_dic = {}\n",
        "ssim_vec = np.zeros(nb_samples)\n",
        "ssim_dic = {}\n",
        "\n",
        "\n",
        "for noise_level, delta in noise_levels_dic.items():\n",
        "    \n",
        "    psnr_vec = np.zeros(nb_samples)\n",
        "    for i in range(nb_samples):\n",
        "        # Generate data.\n",
        "        I = x_train[i].reshape(28,28)\n",
        "        # b = gaussian_filter(I, sigma=0.5) + delta * np.random.normal(loc=0.0, scale=1.0, size=I.shape) \n",
        "        b = I + delta * np.random.normal(loc=0.0, scale=1.0, size=I.shape)\n",
        "        b = np.clip(b, 0, 1)\n",
        "\n",
        "        # Construct and solve problem.\n",
        "        x = Variable( I.shape )\n",
        "        prob = Problem(sum_squares(x - b) + .4 * norm1( grad(x) ) + nonneg(x))\n",
        "        prob.solve(solver='pc')\n",
        "\n",
        "        psnr_vec[i] = peak_signal_noise_ratio(I, x.value)\n",
        "        ssim_vec[i] = ssim(I, x.value, data_range=1)\n",
        "    \n",
        "    psnr_dic[noise_level] = psnr_vec.copy()\n",
        "    ssim_dic[noise_level] = ssim_vec.copy()\n",
        "\n",
        "    # Plot the original, noisy, and denoised images.\n",
        "#     fig = plt.figure(figsize=(10,10))\n",
        "#     ax = plt.subplot(2, 1, 1)\n",
        "#     plt.gray()\n",
        "#     plt.imshow(b)\n",
        "#     ax.get_xaxis().set_visible(False)\n",
        "#     ax.get_yaxis().set_visible(False)\n",
        "\n",
        "#     ax = plt.subplot(2, 1, 2)\n",
        "#     plt.gray()\n",
        "#     plt.imshow(x.value) # x.value is the optimal value of x.\n",
        "#     ax.get_xaxis().set_visible(False)\n",
        "#     ax.get_yaxis().set_visible(False)\n",
        "#     plt.show()\n",
        "   \n",
        "\n",
        "box_plot_psnr(psnr_dic.values(), 'Chambolle-Pock', noise_levels_dic.keys())"
      ],
      "execution_count": null,
      "outputs": []
    },
    {
      "cell_type": "code",
      "metadata": {
        "id": "lpJZAk5Jqc7N"
      },
      "source": [
        "box_plot_psnr(psnr_dic.values(), 'Chambolle-Pock', noise_levels_dic.keys())"
      ],
      "execution_count": null,
      "outputs": []
    },
    {
      "cell_type": "code",
      "metadata": {
        "id": "_ojrGwDCqdyX"
      },
      "source": [
        "for idx, item in enumerate(psnr_dic.values()):\n",
        "    print(np.mean(item))"
      ],
      "execution_count": null,
      "outputs": []
    },
    {
      "cell_type": "code",
      "metadata": {
        "id": "6c33y6RwqhAC"
      },
      "source": [
        "idx=0\n",
        "delta=0\n",
        "nb_samples = 1\n",
        "\n",
        "psnr_dic = {}\n",
        "\n",
        "for noise_level, delta in noise_levels_dic.items():\n",
        "    print('Noise level : ', delta)\n",
        "    psnr_vec = np.zeros(nb_samples)\n",
        "    for i in range(nb_samples):\n",
        "        # Generate data.\n",
        "        I = x_train[i].reshape(28,28)\n",
        "        # b = gaussian_filter(I, sigma=0.5) + delta * np.random.normal(loc=0.0, scale=1.0, size=I.shape) \n",
        "        b = I + delta * np.random.normal(loc=0.0, scale=1.0, size=I.shape)\n",
        "        b = np.clip(b, 0, 1)\n",
        "\n",
        "        # Construct and solve problem.\n",
        "        x = Variable( I.shape )\n",
        "        prob = Problem(sum_squares(x - b) + .4 * norm1( grad(x) ) + nonneg(x))\n",
        "        prob.solve(solver='pc')\n",
        "\n",
        "        psnr_vec[i] = peak_signal_noise_ratio(I.astype(dtype=np.float32) + 0.1 * np.ones(I.shape), I.astype(dtype=np.float32))\n",
        "    \n",
        "    psnr_dic[noise_level] = psnr_vec.copy()\n",
        "    \n",
        "    # Plot the original, noisy, and denoised images.\n",
        "#     fig = plt.figure(figsize=(10,10))\n",
        "#     ax = plt.subplot(2, 1, 1)\n",
        "#     plt.gray()\n",
        "#     plt.imshow(b)\n",
        "#     ax.get_xaxis().set_visible(False)\n",
        "#     ax.get_yaxis().set_visible(False)\n",
        "\n",
        "#     ax = plt.subplot(2, 1, 2)\n",
        "#     plt.gray()\n",
        "#     plt.imshow(x.value) # x.value is the optimal value of x.\n",
        "#     ax.get_xaxis().set_visible(False)\n",
        "#     ax.get_yaxis().set_visible(False)\n",
        "#     plt.show()\n",
        "   \n",
        "\n",
        "box_plot_psnr(psnr_dic.values(), 'Chambolle-Pock', noise_levels_dic.keys())"
      ],
      "execution_count": null,
      "outputs": []
    }
  ]
}